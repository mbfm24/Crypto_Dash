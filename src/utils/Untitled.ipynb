{
 "cells": [
  {
   "cell_type": "code",
   "execution_count": 54,
   "id": "d11cb941-70ce-4b41-8a9c-496fb28ed353",
   "metadata": {},
   "outputs": [],
   "source": [
    "import pandas as pd\n",
    "\n",
    "df = pd.read_csv('../../data/btc.csv',\n",
    "                infer_datetime_format=True,\n",
    "                parse_dates=True,\n",
    "                header=1)\n",
    "\n",
    "\n",
    "\n",
    "def clean_data(df, drop_cols = ['unix', 'open', 'high', 'low']):\n",
    "    df['date'] = pd.to_datetime(df['date'])\n",
    "    df = df.drop(columns=['unix', 'open', 'high', 'low'])\n",
    "    return df"
   ]
  },
  {
   "cell_type": "code",
   "execution_count": null,
   "id": "0db6fe41-2ebe-45ae-852b-0f67c0e4f156",
   "metadata": {},
   "outputs": [],
   "source": []
  },
  {
   "cell_type": "code",
   "execution_count": null,
   "id": "30c6f8c8-5b90-45d8-8296-bcdfc0553768",
   "metadata": {},
   "outputs": [],
   "source": []
  },
  {
   "cell_type": "code",
   "execution_count": 56,
   "id": "3b9b0085-5bc4-4bb1-aa6e-52e5c007d043",
   "metadata": {},
   "outputs": [],
   "source": [
    "df = clean_data(df)"
   ]
  },
  {
   "cell_type": "code",
   "execution_count": 57,
   "id": "7bb4ba43-3ab4-4e62-a48d-285956d61364",
   "metadata": {},
   "outputs": [
    {
     "data": {
      "text/html": [
       "<div>\n",
       "<style scoped>\n",
       "    .dataframe tbody tr th:only-of-type {\n",
       "        vertical-align: middle;\n",
       "    }\n",
       "\n",
       "    .dataframe tbody tr th {\n",
       "        vertical-align: top;\n",
       "    }\n",
       "\n",
       "    .dataframe thead th {\n",
       "        text-align: right;\n",
       "    }\n",
       "</style>\n",
       "<table border=\"1\" class=\"dataframe\">\n",
       "  <thead>\n",
       "    <tr style=\"text-align: right;\">\n",
       "      <th></th>\n",
       "      <th>date</th>\n",
       "      <th>symbol</th>\n",
       "      <th>close</th>\n",
       "      <th>Volume BTC</th>\n",
       "      <th>Volume USD</th>\n",
       "    </tr>\n",
       "  </thead>\n",
       "  <tbody>\n",
       "    <tr>\n",
       "      <th>0</th>\n",
       "      <td>2023-02-01 00:00:00</td>\n",
       "      <td>BTC/USD</td>\n",
       "      <td>23715.81</td>\n",
       "      <td>462.534137</td>\n",
       "      <td>1.096937e+07</td>\n",
       "    </tr>\n",
       "    <tr>\n",
       "      <th>1</th>\n",
       "      <td>2023-01-31 00:00:00</td>\n",
       "      <td>BTC/USD</td>\n",
       "      <td>23138.09</td>\n",
       "      <td>371.243162</td>\n",
       "      <td>8.589858e+06</td>\n",
       "    </tr>\n",
       "    <tr>\n",
       "      <th>2</th>\n",
       "      <td>2023-01-30 00:00:00</td>\n",
       "      <td>BTC/USD</td>\n",
       "      <td>22829.24</td>\n",
       "      <td>498.139917</td>\n",
       "      <td>1.137216e+07</td>\n",
       "    </tr>\n",
       "    <tr>\n",
       "      <th>3</th>\n",
       "      <td>2023-01-29 00:00:00</td>\n",
       "      <td>BTC/USD</td>\n",
       "      <td>23761.08</td>\n",
       "      <td>335.619084</td>\n",
       "      <td>7.974672e+06</td>\n",
       "    </tr>\n",
       "    <tr>\n",
       "      <th>4</th>\n",
       "      <td>2023-01-28 00:00:00</td>\n",
       "      <td>BTC/USD</td>\n",
       "      <td>23031.37</td>\n",
       "      <td>132.820866</td>\n",
       "      <td>3.059047e+06</td>\n",
       "    </tr>\n",
       "    <tr>\n",
       "      <th>...</th>\n",
       "      <td>...</td>\n",
       "      <td>...</td>\n",
       "      <td>...</td>\n",
       "      <td>...</td>\n",
       "      <td>...</td>\n",
       "    </tr>\n",
       "    <tr>\n",
       "      <th>3022</th>\n",
       "      <td>2015-10-12 04:00:00</td>\n",
       "      <td>BTC/USD</td>\n",
       "      <td>245.75</td>\n",
       "      <td>71.047743</td>\n",
       "      <td>1.745998e+04</td>\n",
       "    </tr>\n",
       "    <tr>\n",
       "      <th>3023</th>\n",
       "      <td>2015-10-11 04:00:00</td>\n",
       "      <td>BTC/USD</td>\n",
       "      <td>248.98</td>\n",
       "      <td>22.747091</td>\n",
       "      <td>5.663571e+03</td>\n",
       "    </tr>\n",
       "    <tr>\n",
       "      <th>3024</th>\n",
       "      <td>2015-10-10 04:00:00</td>\n",
       "      <td>BTC/USD</td>\n",
       "      <td>246.30</td>\n",
       "      <td>30.870549</td>\n",
       "      <td>7.603416e+03</td>\n",
       "    </tr>\n",
       "    <tr>\n",
       "      <th>3025</th>\n",
       "      <td>2015-10-09 04:00:00</td>\n",
       "      <td>BTC/USD</td>\n",
       "      <td>245.51</td>\n",
       "      <td>61.587068</td>\n",
       "      <td>1.512024e+04</td>\n",
       "    </tr>\n",
       "    <tr>\n",
       "      <th>3026</th>\n",
       "      <td>2015-10-08 04:00:00</td>\n",
       "      <td>BTC/USD</td>\n",
       "      <td>243.60</td>\n",
       "      <td>34.754703</td>\n",
       "      <td>8.466246e+03</td>\n",
       "    </tr>\n",
       "  </tbody>\n",
       "</table>\n",
       "<p>3027 rows × 5 columns</p>\n",
       "</div>"
      ],
      "text/plain": [
       "                    date   symbol     close  Volume BTC    Volume USD\n",
       "0    2023-02-01 00:00:00  BTC/USD  23715.81  462.534137  1.096937e+07\n",
       "1    2023-01-31 00:00:00  BTC/USD  23138.09  371.243162  8.589858e+06\n",
       "2    2023-01-30 00:00:00  BTC/USD  22829.24  498.139917  1.137216e+07\n",
       "3    2023-01-29 00:00:00  BTC/USD  23761.08  335.619084  7.974672e+06\n",
       "4    2023-01-28 00:00:00  BTC/USD  23031.37  132.820866  3.059047e+06\n",
       "...                  ...      ...       ...         ...           ...\n",
       "3022 2015-10-12 04:00:00  BTC/USD    245.75   71.047743  1.745998e+04\n",
       "3023 2015-10-11 04:00:00  BTC/USD    248.98   22.747091  5.663571e+03\n",
       "3024 2015-10-10 04:00:00  BTC/USD    246.30   30.870549  7.603416e+03\n",
       "3025 2015-10-09 04:00:00  BTC/USD    245.51   61.587068  1.512024e+04\n",
       "3026 2015-10-08 04:00:00  BTC/USD    243.60   34.754703  8.466246e+03\n",
       "\n",
       "[3027 rows x 5 columns]"
      ]
     },
     "execution_count": 57,
     "metadata": {},
     "output_type": "execute_result"
    }
   ],
   "source": [
    "df"
   ]
  },
  {
   "cell_type": "code",
   "execution_count": 59,
   "id": "3c89e570-4e9e-47e4-bea5-d9dfffd5315e",
   "metadata": {},
   "outputs": [
    {
     "data": {
      "text/plain": [
       "0      2023-02-01 00:00:00\n",
       "1      2023-01-31 00:00:00\n",
       "2      2023-01-30 00:00:00\n",
       "3      2023-01-29 00:00:00\n",
       "4      2023-01-28 00:00:00\n",
       "               ...        \n",
       "3022   2015-10-12 04:00:00\n",
       "3023   2015-10-11 04:00:00\n",
       "3024   2015-10-10 04:00:00\n",
       "3025   2015-10-09 04:00:00\n",
       "3026   2015-10-08 04:00:00\n",
       "Name: date, Length: 3027, dtype: datetime64[ns]"
      ]
     },
     "execution_count": 59,
     "metadata": {},
     "output_type": "execute_result"
    }
   ],
   "source": [
    "df['date']"
   ]
  },
  {
   "cell_type": "code",
   "execution_count": 67,
   "id": "d83076f7-6650-40c4-a47e-07e250859879",
   "metadata": {},
   "outputs": [],
   "source": [
    "import os\n",
    "folder_path = '../../data'\n",
    "csv_files = [f for f in os.listdir(folder_path) if f.endswith('.csv')]\n",
    "\n",
    "csv_dict = {}\n",
    "for file_name in csv_files:\n",
    "    key = file_name.replace('.csv', '')\n",
    "    file_path = os.path.join(folder_path, file_name)\n",
    "    csv_dict[key] = 0\n"
   ]
  },
  {
   "cell_type": "code",
   "execution_count": 68,
   "id": "843a16e2-5099-4d3a-8541-3891f04f80d2",
   "metadata": {},
   "outputs": [
    {
     "data": {
      "text/plain": [
       "{'btc': 0, 'eth': 0, 'zec': 0, 'link': 0, 'ltc': 0, 'doge': 0}"
      ]
     },
     "execution_count": 68,
     "metadata": {},
     "output_type": "execute_result"
    }
   ],
   "source": [
    "csv_dict\n"
   ]
  },
  {
   "cell_type": "code",
   "execution_count": null,
   "id": "df41264b-0ead-484c-ad66-4ce004638b7a",
   "metadata": {},
   "outputs": [],
   "source": []
  }
 ],
 "metadata": {
  "kernelspec": {
   "display_name": "dev",
   "language": "python",
   "name": "dev"
  },
  "language_info": {
   "codemirror_mode": {
    "name": "ipython",
    "version": 3
   },
   "file_extension": ".py",
   "mimetype": "text/x-python",
   "name": "python",
   "nbconvert_exporter": "python",
   "pygments_lexer": "ipython3",
   "version": "3.7.13"
  }
 },
 "nbformat": 4,
 "nbformat_minor": 5
}
